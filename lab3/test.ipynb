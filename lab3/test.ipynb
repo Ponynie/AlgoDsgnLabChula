{
 "cells": [
  {
   "cell_type": "code",
   "execution_count": 13,
   "metadata": {},
   "outputs": [
    {
     "name": "stdout",
     "output_type": "stream",
     "text": [
      "2\n"
     ]
    }
   ],
   "source": [
    "import itertools\n",
    "\n",
    "def is_valid_combination(combination, k):\n",
    "    for i in range(len(combination)):\n",
    "        for j in range(i + 1, len(combination)):\n",
    "            if abs(combination[i] - combination[j]) > k:\n",
    "                return False\n",
    "    return True\n",
    "\n",
    "def max_passengers_bruteforce(arr, k):\n",
    "    max_passengers = 0\n",
    "\n",
    "    for num_grabs in range(1, len(arr) + 1):\n",
    "        for grabs in itertools.combinations([i for i, x in enumerate(arr) if x == 'G'], num_grabs):\n",
    "            if is_valid_combination(grabs, k):\n",
    "                passengers = sum(1 for i in range(len(arr)) if arr[i] == 'P' and any(abs(i - g) <= k for g in grabs))\n",
    "                max_passengers = max(max_passengers, passengers)\n",
    "\n",
    "    return max_passengers\n",
    "\n",
    "# Example usage\n",
    "arr = ['G', 'P', 'P', 'G', 'P']\n",
    "k = 1\n",
    "result = max_passengers_bruteforce(arr, k)\n",
    "print(result)  # Output: 2\n"
   ]
  }
 ],
 "metadata": {
  "kernelspec": {
   "display_name": "Python 3",
   "language": "python",
   "name": "python3"
  },
  "language_info": {
   "codemirror_mode": {
    "name": "ipython",
    "version": 3
   },
   "file_extension": ".py",
   "mimetype": "text/x-python",
   "name": "python",
   "nbconvert_exporter": "python",
   "pygments_lexer": "ipython3",
   "version": "3.10.8"
  },
  "orig_nbformat": 4
 },
 "nbformat": 4,
 "nbformat_minor": 2
}
