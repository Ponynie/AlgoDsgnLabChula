{
 "cells": [
  {
   "cell_type": "code",
   "execution_count": 2,
   "metadata": {},
   "outputs": [
    {
     "ename": "AttributeError",
     "evalue": "'itertools.permutations' object has no attribute 'next'",
     "output_type": "error",
     "traceback": [
      "\u001b[0;31m---------------------------------------------------------------------------\u001b[0m",
      "\u001b[0;31mAttributeError\u001b[0m                            Traceback (most recent call last)",
      "\u001b[1;32m/Users/ponynie/Documents/Python_Code/AlgoDsgnLabChula/lab8/test.ipynb Cell 1\u001b[0m line \u001b[0;36m9\n\u001b[1;32m      <a href='vscode-notebook-cell:/Users/ponynie/Documents/Python_Code/AlgoDsgnLabChula/lab8/test.ipynb#W0sZmlsZQ%3D%3D?line=4'>5</a>\u001b[0m     odd_perm \u001b[39m=\u001b[39m permutations(\u001b[39mrange\u001b[39m(\u001b[39m1\u001b[39m, \u001b[39mlen\u001b[39m(sequence), \u001b[39m2\u001b[39m))\n\u001b[1;32m      <a href='vscode-notebook-cell:/Users/ponynie/Documents/Python_Code/AlgoDsgnLabChula/lab8/test.ipynb#W0sZmlsZQ%3D%3D?line=5'>6</a>\u001b[0m     \u001b[39mprint\u001b[39m(even_perm\u001b[39m.\u001b[39mnext())\n\u001b[0;32m----> <a href='vscode-notebook-cell:/Users/ponynie/Documents/Python_Code/AlgoDsgnLabChula/lab8/test.ipynb#W0sZmlsZQ%3D%3D?line=8'>9</a>\u001b[0m sort_sequence_BF([\u001b[39m0\u001b[39;49m,\u001b[39m1\u001b[39;49m,\u001b[39m2\u001b[39;49m,\u001b[39m3\u001b[39;49m,\u001b[39m4\u001b[39;49m], \u001b[39m1\u001b[39;49m)\n",
      "\u001b[1;32m/Users/ponynie/Documents/Python_Code/AlgoDsgnLabChula/lab8/test.ipynb Cell 1\u001b[0m line \u001b[0;36m6\n\u001b[1;32m      <a href='vscode-notebook-cell:/Users/ponynie/Documents/Python_Code/AlgoDsgnLabChula/lab8/test.ipynb#W0sZmlsZQ%3D%3D?line=3'>4</a>\u001b[0m even_perm \u001b[39m=\u001b[39m permutations(\u001b[39mrange\u001b[39m(\u001b[39m0\u001b[39m, \u001b[39mlen\u001b[39m(sequence), \u001b[39m2\u001b[39m))\n\u001b[1;32m      <a href='vscode-notebook-cell:/Users/ponynie/Documents/Python_Code/AlgoDsgnLabChula/lab8/test.ipynb#W0sZmlsZQ%3D%3D?line=4'>5</a>\u001b[0m odd_perm \u001b[39m=\u001b[39m permutations(\u001b[39mrange\u001b[39m(\u001b[39m1\u001b[39m, \u001b[39mlen\u001b[39m(sequence), \u001b[39m2\u001b[39m))\n\u001b[0;32m----> <a href='vscode-notebook-cell:/Users/ponynie/Documents/Python_Code/AlgoDsgnLabChula/lab8/test.ipynb#W0sZmlsZQ%3D%3D?line=5'>6</a>\u001b[0m \u001b[39mprint\u001b[39m(even_perm\u001b[39m.\u001b[39;49mnext())\n",
      "\u001b[0;31mAttributeError\u001b[0m: 'itertools.permutations' object has no attribute 'next'"
     ]
    }
   ],
   "source": [
    "from itertools import permutations\n",
    "\n",
    "def sort_sequence_BF(sequence: list, buffer) -> None:\n",
    "    even_perm = permutations(range(0, len(sequence), 2))\n",
    "    odd_perm = permutations(range(1, len(sequence), 2))\n",
    "    print(even_perm.next())\n",
    "\n",
    "        "
   ]
  }
 ],
 "metadata": {
  "kernelspec": {
   "display_name": ".venv",
   "language": "python",
   "name": "python3"
  },
  "language_info": {
   "codemirror_mode": {
    "name": "ipython",
    "version": 3
   },
   "file_extension": ".py",
   "mimetype": "text/x-python",
   "name": "python",
   "nbconvert_exporter": "python",
   "pygments_lexer": "ipython3",
   "version": "3.10.8"
  }
 },
 "nbformat": 4,
 "nbformat_minor": 2
}
